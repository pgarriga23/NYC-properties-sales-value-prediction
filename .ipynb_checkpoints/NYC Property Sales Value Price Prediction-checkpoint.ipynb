{
 "cells": [
  {
   "cell_type": "code",
   "execution_count": 57,
   "metadata": {},
   "outputs": [],
   "source": [
    "#Importing Libraries\n",
    "\n",
    "import pandas as pd\n",
    "import numpy as np\n",
    "import matplotlib.pyplot as plt\n",
    "%matplotlib inline\n",
    "import seaborn as sns\n",
    "import warnings\n",
    "warnings.filterwarnings('ignore')\n",
    "\n",
    "from sklearn import metrics\n",
    "from sklearn.metrics import mean_squared_error, r2_score\n",
    "from sklearn.model_selection import cross_val_score"
   ]
  },
  {
   "cell_type": "code",
   "execution_count": 4,
   "metadata": {},
   "outputs": [],
   "source": [
    "# Loading the dataset\n",
    "\n",
    "df = pd.read_csv('nyc-rolling-sales.csv')"
   ]
  },
  {
   "cell_type": "code",
   "execution_count": 5,
   "metadata": {},
   "outputs": [
    {
     "data": {
      "text/html": [
       "<div>\n",
       "<style scoped>\n",
       "    .dataframe tbody tr th:only-of-type {\n",
       "        vertical-align: middle;\n",
       "    }\n",
       "\n",
       "    .dataframe tbody tr th {\n",
       "        vertical-align: top;\n",
       "    }\n",
       "\n",
       "    .dataframe thead th {\n",
       "        text-align: right;\n",
       "    }\n",
       "</style>\n",
       "<table border=\"1\" class=\"dataframe\">\n",
       "  <thead>\n",
       "    <tr style=\"text-align: right;\">\n",
       "      <th></th>\n",
       "      <th>Unnamed: 0</th>\n",
       "      <th>BOROUGH</th>\n",
       "      <th>NEIGHBORHOOD</th>\n",
       "      <th>BUILDING CLASS CATEGORY</th>\n",
       "      <th>TAX CLASS AT PRESENT</th>\n",
       "      <th>BLOCK</th>\n",
       "      <th>LOT</th>\n",
       "      <th>EASE-MENT</th>\n",
       "      <th>BUILDING CLASS AT PRESENT</th>\n",
       "      <th>ADDRESS</th>\n",
       "      <th>...</th>\n",
       "      <th>RESIDENTIAL UNITS</th>\n",
       "      <th>COMMERCIAL UNITS</th>\n",
       "      <th>TOTAL UNITS</th>\n",
       "      <th>LAND SQUARE FEET</th>\n",
       "      <th>GROSS SQUARE FEET</th>\n",
       "      <th>YEAR BUILT</th>\n",
       "      <th>TAX CLASS AT TIME OF SALE</th>\n",
       "      <th>BUILDING CLASS AT TIME OF SALE</th>\n",
       "      <th>SALE PRICE</th>\n",
       "      <th>SALE DATE</th>\n",
       "    </tr>\n",
       "  </thead>\n",
       "  <tbody>\n",
       "    <tr>\n",
       "      <th>0</th>\n",
       "      <td>4</td>\n",
       "      <td>1</td>\n",
       "      <td>ALPHABET CITY</td>\n",
       "      <td>07 RENTALS - WALKUP APARTMENTS</td>\n",
       "      <td>2A</td>\n",
       "      <td>392</td>\n",
       "      <td>6</td>\n",
       "      <td></td>\n",
       "      <td>C2</td>\n",
       "      <td>153 AVENUE B</td>\n",
       "      <td>...</td>\n",
       "      <td>5</td>\n",
       "      <td>0</td>\n",
       "      <td>5</td>\n",
       "      <td>1633</td>\n",
       "      <td>6440</td>\n",
       "      <td>1900</td>\n",
       "      <td>2</td>\n",
       "      <td>C2</td>\n",
       "      <td>6625000</td>\n",
       "      <td>2017-07-19 00:00:00</td>\n",
       "    </tr>\n",
       "    <tr>\n",
       "      <th>1</th>\n",
       "      <td>5</td>\n",
       "      <td>1</td>\n",
       "      <td>ALPHABET CITY</td>\n",
       "      <td>07 RENTALS - WALKUP APARTMENTS</td>\n",
       "      <td>2</td>\n",
       "      <td>399</td>\n",
       "      <td>26</td>\n",
       "      <td></td>\n",
       "      <td>C7</td>\n",
       "      <td>234 EAST 4TH   STREET</td>\n",
       "      <td>...</td>\n",
       "      <td>28</td>\n",
       "      <td>3</td>\n",
       "      <td>31</td>\n",
       "      <td>4616</td>\n",
       "      <td>18690</td>\n",
       "      <td>1900</td>\n",
       "      <td>2</td>\n",
       "      <td>C7</td>\n",
       "      <td>-</td>\n",
       "      <td>2016-12-14 00:00:00</td>\n",
       "    </tr>\n",
       "    <tr>\n",
       "      <th>2</th>\n",
       "      <td>6</td>\n",
       "      <td>1</td>\n",
       "      <td>ALPHABET CITY</td>\n",
       "      <td>07 RENTALS - WALKUP APARTMENTS</td>\n",
       "      <td>2</td>\n",
       "      <td>399</td>\n",
       "      <td>39</td>\n",
       "      <td></td>\n",
       "      <td>C7</td>\n",
       "      <td>197 EAST 3RD   STREET</td>\n",
       "      <td>...</td>\n",
       "      <td>16</td>\n",
       "      <td>1</td>\n",
       "      <td>17</td>\n",
       "      <td>2212</td>\n",
       "      <td>7803</td>\n",
       "      <td>1900</td>\n",
       "      <td>2</td>\n",
       "      <td>C7</td>\n",
       "      <td>-</td>\n",
       "      <td>2016-12-09 00:00:00</td>\n",
       "    </tr>\n",
       "    <tr>\n",
       "      <th>3</th>\n",
       "      <td>7</td>\n",
       "      <td>1</td>\n",
       "      <td>ALPHABET CITY</td>\n",
       "      <td>07 RENTALS - WALKUP APARTMENTS</td>\n",
       "      <td>2B</td>\n",
       "      <td>402</td>\n",
       "      <td>21</td>\n",
       "      <td></td>\n",
       "      <td>C4</td>\n",
       "      <td>154 EAST 7TH STREET</td>\n",
       "      <td>...</td>\n",
       "      <td>10</td>\n",
       "      <td>0</td>\n",
       "      <td>10</td>\n",
       "      <td>2272</td>\n",
       "      <td>6794</td>\n",
       "      <td>1913</td>\n",
       "      <td>2</td>\n",
       "      <td>C4</td>\n",
       "      <td>3936272</td>\n",
       "      <td>2016-09-23 00:00:00</td>\n",
       "    </tr>\n",
       "    <tr>\n",
       "      <th>4</th>\n",
       "      <td>8</td>\n",
       "      <td>1</td>\n",
       "      <td>ALPHABET CITY</td>\n",
       "      <td>07 RENTALS - WALKUP APARTMENTS</td>\n",
       "      <td>2A</td>\n",
       "      <td>404</td>\n",
       "      <td>55</td>\n",
       "      <td></td>\n",
       "      <td>C2</td>\n",
       "      <td>301 EAST 10TH   STREET</td>\n",
       "      <td>...</td>\n",
       "      <td>6</td>\n",
       "      <td>0</td>\n",
       "      <td>6</td>\n",
       "      <td>2369</td>\n",
       "      <td>4615</td>\n",
       "      <td>1900</td>\n",
       "      <td>2</td>\n",
       "      <td>C2</td>\n",
       "      <td>8000000</td>\n",
       "      <td>2016-11-17 00:00:00</td>\n",
       "    </tr>\n",
       "  </tbody>\n",
       "</table>\n",
       "<p>5 rows × 22 columns</p>\n",
       "</div>"
      ],
      "text/plain": [
       "   Unnamed: 0  BOROUGH   NEIGHBORHOOD  \\\n",
       "0           4        1  ALPHABET CITY   \n",
       "1           5        1  ALPHABET CITY   \n",
       "2           6        1  ALPHABET CITY   \n",
       "3           7        1  ALPHABET CITY   \n",
       "4           8        1  ALPHABET CITY   \n",
       "\n",
       "                       BUILDING CLASS CATEGORY TAX CLASS AT PRESENT  BLOCK  \\\n",
       "0  07 RENTALS - WALKUP APARTMENTS                                2A    392   \n",
       "1  07 RENTALS - WALKUP APARTMENTS                                 2    399   \n",
       "2  07 RENTALS - WALKUP APARTMENTS                                 2    399   \n",
       "3  07 RENTALS - WALKUP APARTMENTS                                2B    402   \n",
       "4  07 RENTALS - WALKUP APARTMENTS                                2A    404   \n",
       "\n",
       "   LOT EASE-MENT BUILDING CLASS AT PRESENT                 ADDRESS  ...  \\\n",
       "0    6                                  C2            153 AVENUE B  ...   \n",
       "1   26                                  C7   234 EAST 4TH   STREET  ...   \n",
       "2   39                                  C7   197 EAST 3RD   STREET  ...   \n",
       "3   21                                  C4     154 EAST 7TH STREET  ...   \n",
       "4   55                                  C2  301 EAST 10TH   STREET  ...   \n",
       "\n",
       "  RESIDENTIAL UNITS  COMMERCIAL UNITS  TOTAL UNITS  LAND SQUARE FEET  \\\n",
       "0                 5                 0            5              1633   \n",
       "1                28                 3           31              4616   \n",
       "2                16                 1           17              2212   \n",
       "3                10                 0           10              2272   \n",
       "4                 6                 0            6              2369   \n",
       "\n",
       "   GROSS SQUARE FEET YEAR BUILT TAX CLASS AT TIME OF SALE  \\\n",
       "0               6440       1900                         2   \n",
       "1              18690       1900                         2   \n",
       "2               7803       1900                         2   \n",
       "3               6794       1913                         2   \n",
       "4               4615       1900                         2   \n",
       "\n",
       "   BUILDING CLASS AT TIME OF SALE  SALE PRICE            SALE DATE  \n",
       "0                              C2     6625000  2017-07-19 00:00:00  \n",
       "1                              C7         -    2016-12-14 00:00:00  \n",
       "2                              C7         -    2016-12-09 00:00:00  \n",
       "3                              C4     3936272  2016-09-23 00:00:00  \n",
       "4                              C2     8000000  2016-11-17 00:00:00  \n",
       "\n",
       "[5 rows x 22 columns]"
      ]
     },
     "execution_count": 5,
     "metadata": {},
     "output_type": "execute_result"
    }
   ],
   "source": [
    "df.head()"
   ]
  },
  {
   "cell_type": "code",
   "execution_count": 6,
   "metadata": {},
   "outputs": [
    {
     "name": "stdout",
     "output_type": "stream",
     "text": [
      "Index(['Unnamed: 0', 'BOROUGH', 'NEIGHBORHOOD', 'BUILDING CLASS CATEGORY',\n",
      "       'TAX CLASS AT PRESENT', 'BLOCK', 'LOT', 'EASE-MENT',\n",
      "       'BUILDING CLASS AT PRESENT', 'ADDRESS', 'APARTMENT NUMBER', 'ZIP CODE',\n",
      "       'RESIDENTIAL UNITS', 'COMMERCIAL UNITS', 'TOTAL UNITS',\n",
      "       'LAND SQUARE FEET', 'GROSS SQUARE FEET', 'YEAR BUILT',\n",
      "       'TAX CLASS AT TIME OF SALE', 'BUILDING CLASS AT TIME OF SALE',\n",
      "       'SALE PRICE', 'SALE DATE'],\n",
      "      dtype='object')\n"
     ]
    }
   ],
   "source": [
    "# Printing the names of columns\n",
    "\n",
    "print(df.columns)"
   ]
  },
  {
   "cell_type": "code",
   "execution_count": 7,
   "metadata": {},
   "outputs": [
    {
     "name": "stdout",
     "output_type": "stream",
     "text": [
      "(84548, 22)\n"
     ]
    }
   ],
   "source": [
    "# Printing the shape\n",
    "\n",
    "print(df.shape)"
   ]
  },
  {
   "cell_type": "code",
   "execution_count": 8,
   "metadata": {},
   "outputs": [],
   "source": [
    "# Dropping Unnecessary columns\n",
    "\n",
    "del df['EASE-MENT']\n",
    "\n",
    "del df['Unnamed: 0']\n",
    "\n",
    "del df['SALE DATE']\n",
    "\n"
   ]
  },
  {
   "cell_type": "code",
   "execution_count": 9,
   "metadata": {},
   "outputs": [
    {
     "data": {
      "text/plain": [
       "0"
      ]
     },
     "execution_count": 9,
     "metadata": {},
     "output_type": "execute_result"
    }
   ],
   "source": [
    "# Deleting the Duplicates\n",
    "\n",
    "df = df.drop_duplicates(df.columns, keep='last')\n",
    "\n",
    "sum(df.duplicated(df.columns))"
   ]
  },
  {
   "cell_type": "code",
   "execution_count": 10,
   "metadata": {},
   "outputs": [
    {
     "data": {
      "text/plain": [
       "(83190, 19)"
      ]
     },
     "execution_count": 10,
     "metadata": {},
     "output_type": "execute_result"
    }
   ],
   "source": [
    "df.shape"
   ]
  },
  {
   "cell_type": "code",
   "execution_count": 11,
   "metadata": {},
   "outputs": [],
   "source": [
    "# Converting some columns to appropriate datatype\n",
    "\n",
    "df['TAX CLASS AT TIME OF SALE'] = df['TAX CLASS AT TIME OF SALE'].astype('category')\n",
    "df['TAX CLASS AT PRESENT'] = df['TAX CLASS AT PRESENT'].astype('category')\n",
    "df['LAND SQUARE FEET'] = pd.to_numeric(df['LAND SQUARE FEET'], errors='coerce')\n",
    "df['GROSS SQUARE FEET']= pd.to_numeric(df['GROSS SQUARE FEET'], errors='coerce')\n",
    "df['SALE PRICE'] = pd.to_numeric(df['SALE PRICE'], errors='coerce')\n",
    "df['BOROUGH'] = df['BOROUGH'].astype('category')"
   ]
  },
  {
   "cell_type": "code",
   "execution_count": 12,
   "metadata": {},
   "outputs": [
    {
     "data": {
      "text/plain": [
       "Index(['LAND SQUARE FEET', 'GROSS SQUARE FEET', 'SALE PRICE'], dtype='object')"
      ]
     },
     "execution_count": 12,
     "metadata": {},
     "output_type": "execute_result"
    }
   ],
   "source": [
    "# Checking missing values\n",
    "\n",
    "df.columns[df.isnull().any()]"
   ]
  },
  {
   "cell_type": "code",
   "execution_count": 13,
   "metadata": {},
   "outputs": [],
   "source": [
    "# Fill missing values with mean values.\n",
    "\n",
    "df['LAND SQUARE FEET']=df['LAND SQUARE FEET'].fillna(df['LAND SQUARE FEET'].mean())\n",
    "df['GROSS SQUARE FEET']=df['GROSS SQUARE FEET'].fillna(df['GROSS SQUARE FEET'].mean())"
   ]
  },
  {
   "cell_type": "code",
   "execution_count": 14,
   "metadata": {},
   "outputs": [
    {
     "data": {
      "text/plain": [
       "Index(['SALE PRICE'], dtype='object')"
      ]
     },
     "execution_count": 14,
     "metadata": {},
     "output_type": "execute_result"
    }
   ],
   "source": [
    "df.columns[df.isnull().any()]"
   ]
  },
  {
   "cell_type": "code",
   "execution_count": 15,
   "metadata": {},
   "outputs": [],
   "source": [
    "# Splitting dataset based on missing values \n",
    "\n",
    "test = df[df['SALE PRICE'].isna()]\n",
    "df = df[~df['SALE PRICE'].isna()]"
   ]
  },
  {
   "cell_type": "code",
   "execution_count": 16,
   "metadata": {},
   "outputs": [
    {
     "name": "stdout",
     "output_type": "stream",
     "text": [
      "(13909, 19)\n"
     ]
    }
   ],
   "source": [
    "print(test.shape)"
   ]
  },
  {
   "cell_type": "code",
   "execution_count": 17,
   "metadata": {},
   "outputs": [
    {
     "name": "stdout",
     "output_type": "stream",
     "text": [
      "<class 'pandas.core.frame.DataFrame'>\n",
      "Int64Index: 69281 entries, 0 to 84547\n",
      "Data columns (total 19 columns):\n",
      "BOROUGH                           69281 non-null category\n",
      "NEIGHBORHOOD                      69281 non-null object\n",
      "BUILDING CLASS CATEGORY           69281 non-null object\n",
      "TAX CLASS AT PRESENT              69281 non-null category\n",
      "BLOCK                             69281 non-null int64\n",
      "LOT                               69281 non-null int64\n",
      "BUILDING CLASS AT PRESENT         69281 non-null object\n",
      "ADDRESS                           69281 non-null object\n",
      "APARTMENT NUMBER                  69281 non-null object\n",
      "ZIP CODE                          69281 non-null int64\n",
      "RESIDENTIAL UNITS                 69281 non-null int64\n",
      "COMMERCIAL UNITS                  69281 non-null int64\n",
      "TOTAL UNITS                       69281 non-null int64\n",
      "LAND SQUARE FEET                  69281 non-null float64\n",
      "GROSS SQUARE FEET                 69281 non-null float64\n",
      "YEAR BUILT                        69281 non-null int64\n",
      "TAX CLASS AT TIME OF SALE         69281 non-null category\n",
      "BUILDING CLASS AT TIME OF SALE    69281 non-null object\n",
      "SALE PRICE                        69281 non-null float64\n",
      "dtypes: category(3), float64(3), int64(7), object(6)\n",
      "memory usage: 9.2+ MB\n"
     ]
    }
   ],
   "source": [
    "df.info()"
   ]
  },
  {
   "cell_type": "code",
   "execution_count": 18,
   "metadata": {
    "scrolled": true
   },
   "outputs": [
    {
     "data": {
      "text/html": [
       "<div>\n",
       "<style scoped>\n",
       "    .dataframe tbody tr th:only-of-type {\n",
       "        vertical-align: middle;\n",
       "    }\n",
       "\n",
       "    .dataframe tbody tr th {\n",
       "        vertical-align: top;\n",
       "    }\n",
       "\n",
       "    .dataframe thead th {\n",
       "        text-align: right;\n",
       "    }\n",
       "</style>\n",
       "<table border=\"1\" class=\"dataframe\">\n",
       "  <thead>\n",
       "    <tr style=\"text-align: right;\">\n",
       "      <th></th>\n",
       "      <th>BOROUGH</th>\n",
       "      <th>NEIGHBORHOOD</th>\n",
       "      <th>BUILDING CLASS CATEGORY</th>\n",
       "      <th>TAX CLASS AT PRESENT</th>\n",
       "      <th>BLOCK</th>\n",
       "      <th>LOT</th>\n",
       "      <th>BUILDING CLASS AT PRESENT</th>\n",
       "      <th>ADDRESS</th>\n",
       "      <th>APARTMENT NUMBER</th>\n",
       "      <th>ZIP CODE</th>\n",
       "      <th>RESIDENTIAL UNITS</th>\n",
       "      <th>COMMERCIAL UNITS</th>\n",
       "      <th>TOTAL UNITS</th>\n",
       "      <th>LAND SQUARE FEET</th>\n",
       "      <th>GROSS SQUARE FEET</th>\n",
       "      <th>YEAR BUILT</th>\n",
       "      <th>TAX CLASS AT TIME OF SALE</th>\n",
       "      <th>BUILDING CLASS AT TIME OF SALE</th>\n",
       "      <th>SALE PRICE</th>\n",
       "    </tr>\n",
       "  </thead>\n",
       "  <tbody>\n",
       "    <tr>\n",
       "      <th>0</th>\n",
       "      <td>1</td>\n",
       "      <td>ALPHABET CITY</td>\n",
       "      <td>07 RENTALS - WALKUP APARTMENTS</td>\n",
       "      <td>2A</td>\n",
       "      <td>392</td>\n",
       "      <td>6</td>\n",
       "      <td>C2</td>\n",
       "      <td>153 AVENUE B</td>\n",
       "      <td></td>\n",
       "      <td>10009</td>\n",
       "      <td>5</td>\n",
       "      <td>0</td>\n",
       "      <td>5</td>\n",
       "      <td>1633.0</td>\n",
       "      <td>6440.0</td>\n",
       "      <td>1900</td>\n",
       "      <td>2</td>\n",
       "      <td>C2</td>\n",
       "      <td>6625000.0</td>\n",
       "    </tr>\n",
       "    <tr>\n",
       "      <th>3</th>\n",
       "      <td>1</td>\n",
       "      <td>ALPHABET CITY</td>\n",
       "      <td>07 RENTALS - WALKUP APARTMENTS</td>\n",
       "      <td>2B</td>\n",
       "      <td>402</td>\n",
       "      <td>21</td>\n",
       "      <td>C4</td>\n",
       "      <td>154 EAST 7TH STREET</td>\n",
       "      <td></td>\n",
       "      <td>10009</td>\n",
       "      <td>10</td>\n",
       "      <td>0</td>\n",
       "      <td>10</td>\n",
       "      <td>2272.0</td>\n",
       "      <td>6794.0</td>\n",
       "      <td>1913</td>\n",
       "      <td>2</td>\n",
       "      <td>C4</td>\n",
       "      <td>3936272.0</td>\n",
       "    </tr>\n",
       "    <tr>\n",
       "      <th>4</th>\n",
       "      <td>1</td>\n",
       "      <td>ALPHABET CITY</td>\n",
       "      <td>07 RENTALS - WALKUP APARTMENTS</td>\n",
       "      <td>2A</td>\n",
       "      <td>404</td>\n",
       "      <td>55</td>\n",
       "      <td>C2</td>\n",
       "      <td>301 EAST 10TH   STREET</td>\n",
       "      <td></td>\n",
       "      <td>10009</td>\n",
       "      <td>6</td>\n",
       "      <td>0</td>\n",
       "      <td>6</td>\n",
       "      <td>2369.0</td>\n",
       "      <td>4615.0</td>\n",
       "      <td>1900</td>\n",
       "      <td>2</td>\n",
       "      <td>C2</td>\n",
       "      <td>8000000.0</td>\n",
       "    </tr>\n",
       "    <tr>\n",
       "      <th>6</th>\n",
       "      <td>1</td>\n",
       "      <td>ALPHABET CITY</td>\n",
       "      <td>07 RENTALS - WALKUP APARTMENTS</td>\n",
       "      <td>2B</td>\n",
       "      <td>406</td>\n",
       "      <td>32</td>\n",
       "      <td>C4</td>\n",
       "      <td>210 AVENUE B</td>\n",
       "      <td></td>\n",
       "      <td>10009</td>\n",
       "      <td>8</td>\n",
       "      <td>0</td>\n",
       "      <td>8</td>\n",
       "      <td>1750.0</td>\n",
       "      <td>4226.0</td>\n",
       "      <td>1920</td>\n",
       "      <td>2</td>\n",
       "      <td>C4</td>\n",
       "      <td>3192840.0</td>\n",
       "    </tr>\n",
       "    <tr>\n",
       "      <th>9</th>\n",
       "      <td>1</td>\n",
       "      <td>ALPHABET CITY</td>\n",
       "      <td>08 RENTALS - ELEVATOR APARTMENTS</td>\n",
       "      <td>2</td>\n",
       "      <td>387</td>\n",
       "      <td>153</td>\n",
       "      <td>D9</td>\n",
       "      <td>629 EAST 5TH STREET</td>\n",
       "      <td></td>\n",
       "      <td>10009</td>\n",
       "      <td>24</td>\n",
       "      <td>0</td>\n",
       "      <td>24</td>\n",
       "      <td>4489.0</td>\n",
       "      <td>18523.0</td>\n",
       "      <td>1920</td>\n",
       "      <td>2</td>\n",
       "      <td>D9</td>\n",
       "      <td>16232000.0</td>\n",
       "    </tr>\n",
       "  </tbody>\n",
       "</table>\n",
       "</div>"
      ],
      "text/plain": [
       "  BOROUGH   NEIGHBORHOOD                      BUILDING CLASS CATEGORY  \\\n",
       "0       1  ALPHABET CITY  07 RENTALS - WALKUP APARTMENTS                \n",
       "3       1  ALPHABET CITY  07 RENTALS - WALKUP APARTMENTS                \n",
       "4       1  ALPHABET CITY  07 RENTALS - WALKUP APARTMENTS                \n",
       "6       1  ALPHABET CITY  07 RENTALS - WALKUP APARTMENTS                \n",
       "9       1  ALPHABET CITY  08 RENTALS - ELEVATOR APARTMENTS              \n",
       "\n",
       "  TAX CLASS AT PRESENT  BLOCK  LOT BUILDING CLASS AT PRESENT  \\\n",
       "0                   2A    392    6                        C2   \n",
       "3                   2B    402   21                        C4   \n",
       "4                   2A    404   55                        C2   \n",
       "6                   2B    406   32                        C4   \n",
       "9                    2    387  153                        D9   \n",
       "\n",
       "                  ADDRESS APARTMENT NUMBER  ZIP CODE  RESIDENTIAL UNITS  \\\n",
       "0            153 AVENUE B                      10009                  5   \n",
       "3     154 EAST 7TH STREET                      10009                 10   \n",
       "4  301 EAST 10TH   STREET                      10009                  6   \n",
       "6            210 AVENUE B                      10009                  8   \n",
       "9     629 EAST 5TH STREET                      10009                 24   \n",
       "\n",
       "   COMMERCIAL UNITS  TOTAL UNITS  LAND SQUARE FEET  GROSS SQUARE FEET  \\\n",
       "0                 0            5            1633.0             6440.0   \n",
       "3                 0           10            2272.0             6794.0   \n",
       "4                 0            6            2369.0             4615.0   \n",
       "6                 0            8            1750.0             4226.0   \n",
       "9                 0           24            4489.0            18523.0   \n",
       "\n",
       "   YEAR BUILT TAX CLASS AT TIME OF SALE BUILDING CLASS AT TIME OF SALE  \\\n",
       "0        1900                         2                             C2   \n",
       "3        1913                         2                             C4   \n",
       "4        1900                         2                             C2   \n",
       "6        1920                         2                             C4   \n",
       "9        1920                         2                             D9   \n",
       "\n",
       "   SALE PRICE  \n",
       "0   6625000.0  \n",
       "3   3936272.0  \n",
       "4   8000000.0  \n",
       "6   3192840.0  \n",
       "9  16232000.0  "
      ]
     },
     "execution_count": 18,
     "metadata": {},
     "output_type": "execute_result"
    }
   ],
   "source": [
    "df.head()"
   ]
  },
  {
   "cell_type": "code",
   "execution_count": 19,
   "metadata": {},
   "outputs": [
    {
     "data": {
      "text/plain": [
       "<matplotlib.axes._subplots.AxesSubplot at 0x1a1e08be668>"
      ]
     },
     "execution_count": 19,
     "metadata": {},
     "output_type": "execute_result"
    },
    {
     "data": {
      "image/png": "[encoded data removed]",
      "text/plain": [
       "<Figure size 432x288 with 2 Axes>"
      ]
     },
     "metadata": {
      "needs_background": "light"
     },
     "output_type": "display_data"
    }
   ],
   "source": [
    "# Finding correlation between the features\n",
    "\n",
    "corr_matrix = df.corr()\n",
    "sns.heatmap(corr_matrix)"
   ]
  },
  {
   "cell_type": "code",
   "execution_count": 20,
   "metadata": {},
   "outputs": [
    {
     "data": {
      "text/plain": [
       "SALE PRICE           1.000000\n",
       "GROSS SQUARE FEET    0.449913\n",
       "TOTAL UNITS          0.126654\n",
       "RESIDENTIAL UNITS    0.122566\n",
       "LAND SQUARE FEET     0.060143\n",
       "COMMERCIAL UNITS     0.044535\n",
       "LOT                  0.012266\n",
       "YEAR BUILT          -0.003779\n",
       "ZIP CODE            -0.034110\n",
       "BLOCK               -0.061357\n",
       "Name: SALE PRICE, dtype: float64"
      ]
     },
     "execution_count": 20,
     "metadata": {},
     "output_type": "execute_result"
    }
   ],
   "source": [
    "# Numeric correlation\n",
    "\n",
    "corr_matrix['SALE PRICE'].sort_values(ascending=False)"
   ]
  },
  {
   "cell_type": "code",
   "execution_count": 21,
   "metadata": {},
   "outputs": [
    {
     "data": {
      "text/html": [
       "<div>\n",
       "<style scoped>\n",
       "    .dataframe tbody tr th:only-of-type {\n",
       "        vertical-align: middle;\n",
       "    }\n",
       "\n",
       "    .dataframe tbody tr th {\n",
       "        vertical-align: top;\n",
       "    }\n",
       "\n",
       "    .dataframe thead th {\n",
       "        text-align: right;\n",
       "    }\n",
       "</style>\n",
       "<table border=\"1\" class=\"dataframe\">\n",
       "  <thead>\n",
       "    <tr style=\"text-align: right;\">\n",
       "      <th></th>\n",
       "      <th>BLOCK</th>\n",
       "      <th>LOT</th>\n",
       "      <th>ZIP CODE</th>\n",
       "      <th>RESIDENTIAL UNITS</th>\n",
       "      <th>COMMERCIAL UNITS</th>\n",
       "      <th>TOTAL UNITS</th>\n",
       "      <th>LAND SQUARE FEET</th>\n",
       "      <th>GROSS SQUARE FEET</th>\n",
       "      <th>YEAR BUILT</th>\n",
       "      <th>SALE PRICE</th>\n",
       "    </tr>\n",
       "  </thead>\n",
       "  <tbody>\n",
       "    <tr>\n",
       "      <th>count</th>\n",
       "      <td>69281.000000</td>\n",
       "      <td>69281.000000</td>\n",
       "      <td>69281.000000</td>\n",
       "      <td>69281.000000</td>\n",
       "      <td>69281.000000</td>\n",
       "      <td>69281.000000</td>\n",
       "      <td>6.928100e+04</td>\n",
       "      <td>6.928100e+04</td>\n",
       "      <td>69281.000000</td>\n",
       "      <td>6.928100e+04</td>\n",
       "    </tr>\n",
       "    <tr>\n",
       "      <th>mean</th>\n",
       "      <td>4200.305437</td>\n",
       "      <td>374.983473</td>\n",
       "      <td>10739.919458</td>\n",
       "      <td>1.870859</td>\n",
       "      <td>0.164244</td>\n",
       "      <td>2.055109</td>\n",
       "      <td>3.643061e+03</td>\n",
       "      <td>3.640300e+03</td>\n",
       "      <td>1800.113451</td>\n",
       "      <td>1.286521e+06</td>\n",
       "    </tr>\n",
       "    <tr>\n",
       "      <th>std</th>\n",
       "      <td>3434.828427</td>\n",
       "      <td>656.820333</td>\n",
       "      <td>1265.389144</td>\n",
       "      <td>14.317577</td>\n",
       "      <td>9.018311</td>\n",
       "      <td>17.026435</td>\n",
       "      <td>3.322172e+04</td>\n",
       "      <td>2.427118e+04</td>\n",
       "      <td>519.752668</td>\n",
       "      <td>1.145690e+07</td>\n",
       "    </tr>\n",
       "    <tr>\n",
       "      <th>min</th>\n",
       "      <td>1.000000</td>\n",
       "      <td>1.000000</td>\n",
       "      <td>0.000000</td>\n",
       "      <td>0.000000</td>\n",
       "      <td>0.000000</td>\n",
       "      <td>0.000000</td>\n",
       "      <td>0.000000e+00</td>\n",
       "      <td>0.000000e+00</td>\n",
       "      <td>0.000000</td>\n",
       "      <td>0.000000e+00</td>\n",
       "    </tr>\n",
       "    <tr>\n",
       "      <th>25%</th>\n",
       "      <td>1349.000000</td>\n",
       "      <td>21.000000</td>\n",
       "      <td>10306.000000</td>\n",
       "      <td>0.000000</td>\n",
       "      <td>0.000000</td>\n",
       "      <td>0.000000</td>\n",
       "      <td>1.900000e+03</td>\n",
       "      <td>1.268000e+03</td>\n",
       "      <td>1920.000000</td>\n",
       "      <td>2.350000e+05</td>\n",
       "    </tr>\n",
       "    <tr>\n",
       "      <th>50%</th>\n",
       "      <td>3377.000000</td>\n",
       "      <td>50.000000</td>\n",
       "      <td>11209.000000</td>\n",
       "      <td>1.000000</td>\n",
       "      <td>0.000000</td>\n",
       "      <td>1.000000</td>\n",
       "      <td>2.970000e+03</td>\n",
       "      <td>2.400000e+03</td>\n",
       "      <td>1938.000000</td>\n",
       "      <td>5.350000e+05</td>\n",
       "    </tr>\n",
       "    <tr>\n",
       "      <th>75%</th>\n",
       "      <td>6192.000000</td>\n",
       "      <td>879.000000</td>\n",
       "      <td>11249.000000</td>\n",
       "      <td>2.000000</td>\n",
       "      <td>0.000000</td>\n",
       "      <td>2.000000</td>\n",
       "      <td>3.858418e+03</td>\n",
       "      <td>3.891878e+03</td>\n",
       "      <td>1965.000000</td>\n",
       "      <td>9.500000e+05</td>\n",
       "    </tr>\n",
       "    <tr>\n",
       "      <th>max</th>\n",
       "      <td>16319.000000</td>\n",
       "      <td>9106.000000</td>\n",
       "      <td>11694.000000</td>\n",
       "      <td>1844.000000</td>\n",
       "      <td>2261.000000</td>\n",
       "      <td>2261.000000</td>\n",
       "      <td>4.252327e+06</td>\n",
       "      <td>3.750565e+06</td>\n",
       "      <td>2017.000000</td>\n",
       "      <td>2.210000e+09</td>\n",
       "    </tr>\n",
       "  </tbody>\n",
       "</table>\n",
       "</div>"
      ],
      "text/plain": [
       "              BLOCK           LOT      ZIP CODE  RESIDENTIAL UNITS  \\\n",
       "count  69281.000000  69281.000000  69281.000000       69281.000000   \n",
       "mean    4200.305437    374.983473  10739.919458           1.870859   \n",
       "std     3434.828427    656.820333   1265.389144          14.317577   \n",
       "min        1.000000      1.000000      0.000000           0.000000   \n",
       "25%     1349.000000     21.000000  10306.000000           0.000000   \n",
       "50%     3377.000000     50.000000  11209.000000           1.000000   \n",
       "75%     6192.000000    879.000000  11249.000000           2.000000   \n",
       "max    16319.000000   9106.000000  11694.000000        1844.000000   \n",
       "\n",
       "       COMMERCIAL UNITS   TOTAL UNITS  LAND SQUARE FEET  GROSS SQUARE FEET  \\\n",
       "count      69281.000000  69281.000000      6.928100e+04       6.928100e+04   \n",
       "mean           0.164244      2.055109      3.643061e+03       3.640300e+03   \n",
       "std            9.018311     17.026435      3.322172e+04       2.427118e+04   \n",
       "min            0.000000      0.000000      0.000000e+00       0.000000e+00   \n",
       "25%            0.000000      0.000000      1.900000e+03       1.268000e+03   \n",
       "50%            0.000000      1.000000      2.970000e+03       2.400000e+03   \n",
       "75%            0.000000      2.000000      3.858418e+03       3.891878e+03   \n",
       "max         2261.000000   2261.000000      4.252327e+06       3.750565e+06   \n",
       "\n",
       "         YEAR BUILT    SALE PRICE  \n",
       "count  69281.000000  6.928100e+04  \n",
       "mean    1800.113451  1.286521e+06  \n",
       "std      519.752668  1.145690e+07  \n",
       "min        0.000000  0.000000e+00  \n",
       "25%     1920.000000  2.350000e+05  \n",
       "50%     1938.000000  5.350000e+05  \n",
       "75%     1965.000000  9.500000e+05  \n",
       "max     2017.000000  2.210000e+09  "
      ]
     },
     "execution_count": 21,
     "metadata": {},
     "output_type": "execute_result"
    }
   ],
   "source": [
    "# Storing the numeric data\n",
    "\n",
    "numeric_data=df.select_dtypes(include=[np.number])\n",
    "numeric_data.describe()"
   ]
  },
  {
   "cell_type": "code",
   "execution_count": 22,
   "metadata": {},
   "outputs": [
    {
     "data": {
      "text/html": [
       "<div>\n",
       "<style scoped>\n",
       "    .dataframe tbody tr th:only-of-type {\n",
       "        vertical-align: middle;\n",
       "    }\n",
       "\n",
       "    .dataframe tbody tr th {\n",
       "        vertical-align: top;\n",
       "    }\n",
       "\n",
       "    .dataframe thead th {\n",
       "        text-align: right;\n",
       "    }\n",
       "</style>\n",
       "<table border=\"1\" class=\"dataframe\">\n",
       "  <thead>\n",
       "    <tr style=\"text-align: right;\">\n",
       "      <th></th>\n",
       "      <th>TOTAL UNITS</th>\n",
       "      <th>SALE PRICE</th>\n",
       "    </tr>\n",
       "  </thead>\n",
       "  <tbody>\n",
       "    <tr>\n",
       "      <th>1</th>\n",
       "      <td>1</td>\n",
       "      <td>30435</td>\n",
       "    </tr>\n",
       "    <tr>\n",
       "      <th>0</th>\n",
       "      <td>0</td>\n",
       "      <td>17563</td>\n",
       "    </tr>\n",
       "    <tr>\n",
       "      <th>2</th>\n",
       "      <td>2</td>\n",
       "      <td>12931</td>\n",
       "    </tr>\n",
       "    <tr>\n",
       "      <th>3</th>\n",
       "      <td>3</td>\n",
       "      <td>4415</td>\n",
       "    </tr>\n",
       "    <tr>\n",
       "      <th>4</th>\n",
       "      <td>4</td>\n",
       "      <td>1256</td>\n",
       "    </tr>\n",
       "    <tr>\n",
       "      <th>6</th>\n",
       "      <td>6</td>\n",
       "      <td>662</td>\n",
       "    </tr>\n",
       "    <tr>\n",
       "      <th>5</th>\n",
       "      <td>5</td>\n",
       "      <td>334</td>\n",
       "    </tr>\n",
       "    <tr>\n",
       "      <th>8</th>\n",
       "      <td>8</td>\n",
       "      <td>310</td>\n",
       "    </tr>\n",
       "    <tr>\n",
       "      <th>7</th>\n",
       "      <td>7</td>\n",
       "      <td>145</td>\n",
       "    </tr>\n",
       "    <tr>\n",
       "      <th>10</th>\n",
       "      <td>10</td>\n",
       "      <td>124</td>\n",
       "    </tr>\n",
       "    <tr>\n",
       "      <th>9</th>\n",
       "      <td>9</td>\n",
       "      <td>112</td>\n",
       "    </tr>\n",
       "    <tr>\n",
       "      <th>16</th>\n",
       "      <td>16</td>\n",
       "      <td>89</td>\n",
       "    </tr>\n",
       "    <tr>\n",
       "      <th>12</th>\n",
       "      <td>12</td>\n",
       "      <td>56</td>\n",
       "    </tr>\n",
       "    <tr>\n",
       "      <th>20</th>\n",
       "      <td>20</td>\n",
       "      <td>52</td>\n",
       "    </tr>\n",
       "    <tr>\n",
       "      <th>11</th>\n",
       "      <td>11</td>\n",
       "      <td>43</td>\n",
       "    </tr>\n",
       "    <tr>\n",
       "      <th>15</th>\n",
       "      <td>15</td>\n",
       "      <td>42</td>\n",
       "    </tr>\n",
       "    <tr>\n",
       "      <th>24</th>\n",
       "      <td>24</td>\n",
       "      <td>33</td>\n",
       "    </tr>\n",
       "    <tr>\n",
       "      <th>27</th>\n",
       "      <td>27</td>\n",
       "      <td>27</td>\n",
       "    </tr>\n",
       "    <tr>\n",
       "      <th>30</th>\n",
       "      <td>30</td>\n",
       "      <td>27</td>\n",
       "    </tr>\n",
       "    <tr>\n",
       "      <th>14</th>\n",
       "      <td>14</td>\n",
       "      <td>26</td>\n",
       "    </tr>\n",
       "    <tr>\n",
       "      <th>25</th>\n",
       "      <td>25</td>\n",
       "      <td>26</td>\n",
       "    </tr>\n",
       "    <tr>\n",
       "      <th>13</th>\n",
       "      <td>13</td>\n",
       "      <td>24</td>\n",
       "    </tr>\n",
       "    <tr>\n",
       "      <th>36</th>\n",
       "      <td>36</td>\n",
       "      <td>22</td>\n",
       "    </tr>\n",
       "    <tr>\n",
       "      <th>18</th>\n",
       "      <td>18</td>\n",
       "      <td>21</td>\n",
       "    </tr>\n",
       "    <tr>\n",
       "      <th>42</th>\n",
       "      <td>42</td>\n",
       "      <td>18</td>\n",
       "    </tr>\n",
       "    <tr>\n",
       "      <th>19</th>\n",
       "      <td>19</td>\n",
       "      <td>17</td>\n",
       "    </tr>\n",
       "    <tr>\n",
       "      <th>35</th>\n",
       "      <td>35</td>\n",
       "      <td>17</td>\n",
       "    </tr>\n",
       "    <tr>\n",
       "      <th>31</th>\n",
       "      <td>31</td>\n",
       "      <td>16</td>\n",
       "    </tr>\n",
       "    <tr>\n",
       "      <th>17</th>\n",
       "      <td>17</td>\n",
       "      <td>15</td>\n",
       "    </tr>\n",
       "    <tr>\n",
       "      <th>48</th>\n",
       "      <td>48</td>\n",
       "      <td>15</td>\n",
       "    </tr>\n",
       "    <tr>\n",
       "      <th>...</th>\n",
       "      <td>...</td>\n",
       "      <td>...</td>\n",
       "    </tr>\n",
       "    <tr>\n",
       "      <th>97</th>\n",
       "      <td>107</td>\n",
       "      <td>1</td>\n",
       "    </tr>\n",
       "    <tr>\n",
       "      <th>108</th>\n",
       "      <td>127</td>\n",
       "      <td>1</td>\n",
       "    </tr>\n",
       "    <tr>\n",
       "      <th>96</th>\n",
       "      <td>106</td>\n",
       "      <td>1</td>\n",
       "    </tr>\n",
       "    <tr>\n",
       "      <th>95</th>\n",
       "      <td>104</td>\n",
       "      <td>1</td>\n",
       "    </tr>\n",
       "    <tr>\n",
       "      <th>94</th>\n",
       "      <td>103</td>\n",
       "      <td>1</td>\n",
       "    </tr>\n",
       "    <tr>\n",
       "      <th>93</th>\n",
       "      <td>102</td>\n",
       "      <td>1</td>\n",
       "    </tr>\n",
       "    <tr>\n",
       "      <th>79</th>\n",
       "      <td>79</td>\n",
       "      <td>1</td>\n",
       "    </tr>\n",
       "    <tr>\n",
       "      <th>91</th>\n",
       "      <td>99</td>\n",
       "      <td>1</td>\n",
       "    </tr>\n",
       "    <tr>\n",
       "      <th>80</th>\n",
       "      <td>81</td>\n",
       "      <td>1</td>\n",
       "    </tr>\n",
       "    <tr>\n",
       "      <th>76</th>\n",
       "      <td>76</td>\n",
       "      <td>1</td>\n",
       "    </tr>\n",
       "    <tr>\n",
       "      <th>109</th>\n",
       "      <td>128</td>\n",
       "      <td>1</td>\n",
       "    </tr>\n",
       "    <tr>\n",
       "      <th>83</th>\n",
       "      <td>86</td>\n",
       "      <td>1</td>\n",
       "    </tr>\n",
       "    <tr>\n",
       "      <th>119</th>\n",
       "      <td>145</td>\n",
       "      <td>1</td>\n",
       "    </tr>\n",
       "    <tr>\n",
       "      <th>127</th>\n",
       "      <td>164</td>\n",
       "      <td>1</td>\n",
       "    </tr>\n",
       "    <tr>\n",
       "      <th>126</th>\n",
       "      <td>163</td>\n",
       "      <td>1</td>\n",
       "    </tr>\n",
       "    <tr>\n",
       "      <th>67</th>\n",
       "      <td>67</td>\n",
       "      <td>1</td>\n",
       "    </tr>\n",
       "    <tr>\n",
       "      <th>124</th>\n",
       "      <td>155</td>\n",
       "      <td>1</td>\n",
       "    </tr>\n",
       "    <tr>\n",
       "      <th>69</th>\n",
       "      <td>69</td>\n",
       "      <td>1</td>\n",
       "    </tr>\n",
       "    <tr>\n",
       "      <th>73</th>\n",
       "      <td>73</td>\n",
       "      <td>1</td>\n",
       "    </tr>\n",
       "    <tr>\n",
       "      <th>121</th>\n",
       "      <td>147</td>\n",
       "      <td>1</td>\n",
       "    </tr>\n",
       "    <tr>\n",
       "      <th>118</th>\n",
       "      <td>143</td>\n",
       "      <td>1</td>\n",
       "    </tr>\n",
       "    <tr>\n",
       "      <th>110</th>\n",
       "      <td>129</td>\n",
       "      <td>1</td>\n",
       "    </tr>\n",
       "    <tr>\n",
       "      <th>117</th>\n",
       "      <td>142</td>\n",
       "      <td>1</td>\n",
       "    </tr>\n",
       "    <tr>\n",
       "      <th>116</th>\n",
       "      <td>139</td>\n",
       "      <td>1</td>\n",
       "    </tr>\n",
       "    <tr>\n",
       "      <th>115</th>\n",
       "      <td>137</td>\n",
       "      <td>1</td>\n",
       "    </tr>\n",
       "    <tr>\n",
       "      <th>114</th>\n",
       "      <td>136</td>\n",
       "      <td>1</td>\n",
       "    </tr>\n",
       "    <tr>\n",
       "      <th>113</th>\n",
       "      <td>135</td>\n",
       "      <td>1</td>\n",
       "    </tr>\n",
       "    <tr>\n",
       "      <th>112</th>\n",
       "      <td>132</td>\n",
       "      <td>1</td>\n",
       "    </tr>\n",
       "    <tr>\n",
       "      <th>111</th>\n",
       "      <td>130</td>\n",
       "      <td>1</td>\n",
       "    </tr>\n",
       "    <tr>\n",
       "      <th>168</th>\n",
       "      <td>2261</td>\n",
       "      <td>1</td>\n",
       "    </tr>\n",
       "  </tbody>\n",
       "</table>\n",
       "<p>169 rows × 2 columns</p>\n",
       "</div>"
      ],
      "text/plain": [
       "     TOTAL UNITS  SALE PRICE\n",
       "1              1       30435\n",
       "0              0       17563\n",
       "2              2       12931\n",
       "3              3        4415\n",
       "4              4        1256\n",
       "..           ...         ...\n",
       "114          136           1\n",
       "113          135           1\n",
       "112          132           1\n",
       "111          130           1\n",
       "168         2261           1\n",
       "\n",
       "[169 rows x 2 columns]"
      ]
     },
     "execution_count": 22,
     "metadata": {},
     "output_type": "execute_result"
    }
   ],
   "source": [
    "# Checking Total Units, Commercial Units, Residential Units\n",
    "df[[\"TOTAL UNITS\", \"SALE PRICE\"]].groupby(['TOTAL UNITS'], as_index=False).count().sort_values(by='SALE PRICE', ascending=False)"
   ]
  },
  {
   "cell_type": "code",
   "execution_count": 23,
   "metadata": {},
   "outputs": [],
   "source": [
    "df = df[(df['TOTAL UNITS'] > 0) & (df['TOTAL UNITS'] != 2261)]"
   ]
  },
  {
   "cell_type": "code",
   "execution_count": 24,
   "metadata": {},
   "outputs": [
    {
     "data": {
      "text/plain": [
       "(51717, 19)"
      ]
     },
     "execution_count": 24,
     "metadata": {},
     "output_type": "execute_result"
    }
   ],
   "source": [
    "df.shape"
   ]
  },
  {
   "cell_type": "code",
   "execution_count": 25,
   "metadata": {},
   "outputs": [],
   "source": [
    "# Remove observations that fall outside Sale Price caps\n",
    "\n",
    "df = df[(df['SALE PRICE'] > 100000) & (df['SALE PRICE'] < 5000000)]"
   ]
  },
  {
   "cell_type": "code",
   "execution_count": 26,
   "metadata": {},
   "outputs": [
    {
     "data": {
      "text/plain": [
       "<matplotlib.axes._subplots.AxesSubplot at 0x1a1e09f4f28>"
      ]
     },
     "execution_count": 26,
     "metadata": {},
     "output_type": "execute_result"
    },
    {
     "data": {
      "image/png": "[encoded data removed]",
      "text/plain": [
       "<Figure size 720x432 with 1 Axes>"
      ]
     },
     "metadata": {
      "needs_background": "light"
     },
     "output_type": "display_data"
    }
   ],
   "source": [
    "# Square Feet Plots\n",
    "\n",
    "plt.figure(figsize=(10,6))\n",
    "sns.boxplot(x='GROSS SQUARE FEET', data=df,showfliers=False)"
   ]
  },
  {
   "cell_type": "code",
   "execution_count": 27,
   "metadata": {},
   "outputs": [
    {
     "data": {
      "text/plain": [
       "<matplotlib.axes._subplots.AxesSubplot at 0x1a1e1148630>"
      ]
     },
     "execution_count": 27,
     "metadata": {},
     "output_type": "execute_result"
    },
    {
     "data": {
      "image/png": "[encoded data removed]",
      "text/plain": [
       "<Figure size 720x432 with 1 Axes>"
      ]
     },
     "metadata": {
      "needs_background": "light"
     },
     "output_type": "display_data"
    }
   ],
   "source": [
    "plt.figure(figsize=(10,6))\n",
    "sns.boxplot(x='LAND SQUARE FEET', data=df,showfliers=False)"
   ]
  },
  {
   "cell_type": "code",
   "execution_count": 28,
   "metadata": {},
   "outputs": [],
   "source": [
    "# Keeping only required rows based on area\n",
    "df = df[df['GROSS SQUARE FEET'] < 10000]\n",
    "df = df[df['LAND SQUARE FEET'] < 10000]"
   ]
  },
  {
   "cell_type": "code",
   "execution_count": 29,
   "metadata": {},
   "outputs": [
    {
     "data": {
      "text/plain": [
       "(38342, 19)"
      ]
     },
     "execution_count": 29,
     "metadata": {},
     "output_type": "execute_result"
    }
   ],
   "source": [
    "df.shape"
   ]
  },
  {
   "cell_type": "code",
   "execution_count": 30,
   "metadata": {},
   "outputs": [],
   "source": [
    "del df['ADDRESS']\n",
    "del df['APARTMENT NUMBER']"
   ]
  },
  {
   "cell_type": "code",
   "execution_count": 31,
   "metadata": {},
   "outputs": [
    {
     "name": "stdout",
     "output_type": "stream",
     "text": [
      "<class 'pandas.core.frame.DataFrame'>\n",
      "Int64Index: 38342 entries, 3 to 84545\n",
      "Data columns (total 17 columns):\n",
      "BOROUGH                           38342 non-null category\n",
      "NEIGHBORHOOD                      38342 non-null object\n",
      "BUILDING CLASS CATEGORY           38342 non-null object\n",
      "TAX CLASS AT PRESENT              38342 non-null category\n",
      "BLOCK                             38342 non-null int64\n",
      "LOT                               38342 non-null int64\n",
      "BUILDING CLASS AT PRESENT         38342 non-null object\n",
      "ZIP CODE                          38342 non-null int64\n",
      "RESIDENTIAL UNITS                 38342 non-null int64\n",
      "COMMERCIAL UNITS                  38342 non-null int64\n",
      "TOTAL UNITS                       38342 non-null int64\n",
      "LAND SQUARE FEET                  38342 non-null float64\n",
      "GROSS SQUARE FEET                 38342 non-null float64\n",
      "YEAR BUILT                        38342 non-null int64\n",
      "TAX CLASS AT TIME OF SALE         38342 non-null category\n",
      "BUILDING CLASS AT TIME OF SALE    38342 non-null object\n",
      "SALE PRICE                        38342 non-null float64\n",
      "dtypes: category(3), float64(3), int64(7), object(4)\n",
      "memory usage: 4.5+ MB\n"
     ]
    }
   ],
   "source": [
    "df.info()"
   ]
  },
  {
   "cell_type": "code",
   "execution_count": 32,
   "metadata": {},
   "outputs": [
    {
     "data": {
      "text/plain": [
       "Index(['BLOCK', 'LOT', 'ZIP CODE', 'RESIDENTIAL UNITS', 'COMMERCIAL UNITS',\n",
       "       'TOTAL UNITS', 'LAND SQUARE FEET', 'GROSS SQUARE FEET', 'YEAR BUILT',\n",
       "       'SALE PRICE'],\n",
       "      dtype='object')"
      ]
     },
     "execution_count": 32,
     "metadata": {},
     "output_type": "execute_result"
    }
   ],
   "source": [
    "numeric_data.columns"
   ]
  },
  {
   "cell_type": "code",
   "execution_count": 33,
   "metadata": {},
   "outputs": [],
   "source": [
    "# Transforming the numeric features using log(x + 1)\n",
    "\n",
    "from scipy.stats import skew\n",
    "skewed = df[numeric_data.columns].apply(lambda x: skew(x.dropna().astype(float)))\n",
    "skewed = skewed[skewed > 0.75]\n",
    "skewed = skewed.index\n",
    "df[skewed] = np.log1p(df[skewed])"
   ]
  },
  {
   "cell_type": "code",
   "execution_count": 34,
   "metadata": {},
   "outputs": [],
   "source": [
    "# Normalising the numerical columns\n",
    "\n",
    "from sklearn.preprocessing import StandardScaler\n",
    "scaler = StandardScaler()\n",
    "scaler.fit(df[numeric_data.columns])\n",
    "scaled = scaler.transform(df[numeric_data.columns])\n",
    "\n",
    "for i, col in enumerate(numeric_data.columns):\n",
    "       df[col] = scaled[:,i]"
   ]
  },
  {
   "cell_type": "code",
   "execution_count": 35,
   "metadata": {},
   "outputs": [
    {
     "data": {
      "text/html": [
       "<div>\n",
       "<style scoped>\n",
       "    .dataframe tbody tr th:only-of-type {\n",
       "        vertical-align: middle;\n",
       "    }\n",
       "\n",
       "    .dataframe tbody tr th {\n",
       "        vertical-align: top;\n",
       "    }\n",
       "\n",
       "    .dataframe thead th {\n",
       "        text-align: right;\n",
       "    }\n",
       "</style>\n",
       "<table border=\"1\" class=\"dataframe\">\n",
       "  <thead>\n",
       "    <tr style=\"text-align: right;\">\n",
       "      <th></th>\n",
       "      <th>BOROUGH</th>\n",
       "      <th>NEIGHBORHOOD</th>\n",
       "      <th>BUILDING CLASS CATEGORY</th>\n",
       "      <th>TAX CLASS AT PRESENT</th>\n",
       "      <th>BLOCK</th>\n",
       "      <th>LOT</th>\n",
       "      <th>BUILDING CLASS AT PRESENT</th>\n",
       "      <th>ZIP CODE</th>\n",
       "      <th>RESIDENTIAL UNITS</th>\n",
       "      <th>COMMERCIAL UNITS</th>\n",
       "      <th>TOTAL UNITS</th>\n",
       "      <th>LAND SQUARE FEET</th>\n",
       "      <th>GROSS SQUARE FEET</th>\n",
       "      <th>YEAR BUILT</th>\n",
       "      <th>TAX CLASS AT TIME OF SALE</th>\n",
       "      <th>BUILDING CLASS AT TIME OF SALE</th>\n",
       "      <th>SALE PRICE</th>\n",
       "    </tr>\n",
       "  </thead>\n",
       "  <tbody>\n",
       "    <tr>\n",
       "      <th>3</th>\n",
       "      <td>1</td>\n",
       "      <td>ALPHABET CITY</td>\n",
       "      <td>07 RENTALS - WALKUP APARTMENTS</td>\n",
       "      <td>2B</td>\n",
       "      <td>-1.552838</td>\n",
       "      <td>-0.871424</td>\n",
       "      <td>C4</td>\n",
       "      <td>-1.442057</td>\n",
       "      <td>4.726583</td>\n",
       "      <td>-0.204406</td>\n",
       "      <td>4.897089</td>\n",
       "      <td>-0.332369</td>\n",
       "      <td>3.247655</td>\n",
       "      <td>0.176451</td>\n",
       "      <td>2</td>\n",
       "      <td>C4</td>\n",
       "      <td>2.478171</td>\n",
       "    </tr>\n",
       "    <tr>\n",
       "      <th>6</th>\n",
       "      <td>1</td>\n",
       "      <td>ALPHABET CITY</td>\n",
       "      <td>07 RENTALS - WALKUP APARTMENTS</td>\n",
       "      <td>2B</td>\n",
       "      <td>-1.545023</td>\n",
       "      <td>-0.654228</td>\n",
       "      <td>C4</td>\n",
       "      <td>-1.442057</td>\n",
       "      <td>4.109626</td>\n",
       "      <td>-0.204406</td>\n",
       "      <td>4.245205</td>\n",
       "      <td>-0.669316</td>\n",
       "      <td>1.421318</td>\n",
       "      <td>0.191071</td>\n",
       "      <td>2</td>\n",
       "      <td>C4</td>\n",
       "      <td>2.174164</td>\n",
       "    </tr>\n",
       "    <tr>\n",
       "      <th>76</th>\n",
       "      <td>1</td>\n",
       "      <td>ALPHABET CITY</td>\n",
       "      <td>12 CONDOS - WALKUP APARTMENTS</td>\n",
       "      <td>2</td>\n",
       "      <td>-1.584890</td>\n",
       "      <td>1.174680</td>\n",
       "      <td>R2</td>\n",
       "      <td>-1.442057</td>\n",
       "      <td>-0.514625</td>\n",
       "      <td>-0.204406</td>\n",
       "      <td>-0.640828</td>\n",
       "      <td>0.691653</td>\n",
       "      <td>1.183694</td>\n",
       "      <td>-3.818937</td>\n",
       "      <td>2</td>\n",
       "      <td>R2</td>\n",
       "      <td>-0.206132</td>\n",
       "    </tr>\n",
       "    <tr>\n",
       "      <th>79</th>\n",
       "      <td>1</td>\n",
       "      <td>ALPHABET CITY</td>\n",
       "      <td>13 CONDOS - ELEVATOR APARTMENTS</td>\n",
       "      <td>2</td>\n",
       "      <td>-1.611925</td>\n",
       "      <td>1.175214</td>\n",
       "      <td>R4</td>\n",
       "      <td>-1.442057</td>\n",
       "      <td>-0.514625</td>\n",
       "      <td>-0.204406</td>\n",
       "      <td>-0.640828</td>\n",
       "      <td>0.691653</td>\n",
       "      <td>1.183694</td>\n",
       "      <td>0.191071</td>\n",
       "      <td>2</td>\n",
       "      <td>R4</td>\n",
       "      <td>0.094653</td>\n",
       "    </tr>\n",
       "    <tr>\n",
       "      <th>80</th>\n",
       "      <td>1</td>\n",
       "      <td>ALPHABET CITY</td>\n",
       "      <td>13 CONDOS - ELEVATOR APARTMENTS</td>\n",
       "      <td>2</td>\n",
       "      <td>-1.611925</td>\n",
       "      <td>1.175747</td>\n",
       "      <td>R4</td>\n",
       "      <td>-1.442057</td>\n",
       "      <td>-0.514625</td>\n",
       "      <td>-0.204406</td>\n",
       "      <td>-0.640828</td>\n",
       "      <td>0.691653</td>\n",
       "      <td>1.183694</td>\n",
       "      <td>0.191071</td>\n",
       "      <td>2</td>\n",
       "      <td>R4</td>\n",
       "      <td>0.113914</td>\n",
       "    </tr>\n",
       "  </tbody>\n",
       "</table>\n",
       "</div>"
      ],
      "text/plain": [
       "   BOROUGH   NEIGHBORHOOD                      BUILDING CLASS CATEGORY  \\\n",
       "3        1  ALPHABET CITY  07 RENTALS - WALKUP APARTMENTS                \n",
       "6        1  ALPHABET CITY  07 RENTALS - WALKUP APARTMENTS                \n",
       "76       1  ALPHABET CITY  12 CONDOS - WALKUP APARTMENTS                 \n",
       "79       1  ALPHABET CITY  13 CONDOS - ELEVATOR APARTMENTS               \n",
       "80       1  ALPHABET CITY  13 CONDOS - ELEVATOR APARTMENTS               \n",
       "\n",
       "   TAX CLASS AT PRESENT     BLOCK       LOT BUILDING CLASS AT PRESENT  \\\n",
       "3                    2B -1.552838 -0.871424                        C4   \n",
       "6                    2B -1.545023 -0.654228                        C4   \n",
       "76                    2 -1.584890  1.174680                        R2   \n",
       "79                    2 -1.611925  1.175214                        R4   \n",
       "80                    2 -1.611925  1.175747                        R4   \n",
       "\n",
       "    ZIP CODE  RESIDENTIAL UNITS  COMMERCIAL UNITS  TOTAL UNITS  \\\n",
       "3  -1.442057           4.726583         -0.204406     4.897089   \n",
       "6  -1.442057           4.109626         -0.204406     4.245205   \n",
       "76 -1.442057          -0.514625         -0.204406    -0.640828   \n",
       "79 -1.442057          -0.514625         -0.204406    -0.640828   \n",
       "80 -1.442057          -0.514625         -0.204406    -0.640828   \n",
       "\n",
       "    LAND SQUARE FEET  GROSS SQUARE FEET  YEAR BUILT TAX CLASS AT TIME OF SALE  \\\n",
       "3          -0.332369           3.247655    0.176451                         2   \n",
       "6          -0.669316           1.421318    0.191071                         2   \n",
       "76          0.691653           1.183694   -3.818937                         2   \n",
       "79          0.691653           1.183694    0.191071                         2   \n",
       "80          0.691653           1.183694    0.191071                         2   \n",
       "\n",
       "   BUILDING CLASS AT TIME OF SALE  SALE PRICE  \n",
       "3                              C4    2.478171  \n",
       "6                              C4    2.174164  \n",
       "76                             R2   -0.206132  \n",
       "79                             R4    0.094653  \n",
       "80                             R4    0.113914  "
      ]
     },
     "execution_count": 35,
     "metadata": {},
     "output_type": "execute_result"
    }
   ],
   "source": [
    "df.head()"
   ]
  },
  {
   "cell_type": "code",
   "execution_count": 36,
   "metadata": {},
   "outputs": [],
   "source": [
    "# Dropping columns not useful\n",
    "del df['BUILDING CLASS AT PRESENT']\n",
    "del df['BUILDING CLASS AT TIME OF SALE']\n",
    "del df['NEIGHBORHOOD']"
   ]
  },
  {
   "cell_type": "code",
   "execution_count": 37,
   "metadata": {},
   "outputs": [
    {
     "data": {
      "text/plain": [
       "(38342, 14)"
      ]
     },
     "execution_count": 37,
     "metadata": {},
     "output_type": "execute_result"
    }
   ],
   "source": [
    "df.shape"
   ]
  },
  {
   "cell_type": "code",
   "execution_count": 38,
   "metadata": {},
   "outputs": [],
   "source": [
    "# Selecting the variables to be one-hot encoded\n",
    "one_hot_columns = ['BOROUGH', 'BUILDING CLASS CATEGORY','TAX CLASS AT PRESENT','TAX CLASS AT TIME OF SALE']"
   ]
  },
  {
   "cell_type": "code",
   "execution_count": 39,
   "metadata": {},
   "outputs": [
    {
     "name": "stdout",
     "output_type": "stream",
     "text": [
      "<class 'pandas.core.frame.DataFrame'>\n",
      "Int64Index: 38342 entries, 3 to 84545\n",
      "Data columns (total 56 columns):\n",
      "BOROUGH_1                                                               38342 non-null uint8\n",
      "BOROUGH_2                                                               38342 non-null uint8\n",
      "BOROUGH_3                                                               38342 non-null uint8\n",
      "BOROUGH_4                                                               38342 non-null uint8\n",
      "BOROUGH_5                                                               38342 non-null uint8\n",
      "BUILDING CLASS CATEGORY_01 ONE FAMILY DWELLINGS                         38342 non-null uint8\n",
      "BUILDING CLASS CATEGORY_02 TWO FAMILY DWELLINGS                         38342 non-null uint8\n",
      "BUILDING CLASS CATEGORY_03 THREE FAMILY DWELLINGS                       38342 non-null uint8\n",
      "BUILDING CLASS CATEGORY_04 TAX CLASS 1 CONDOS                           38342 non-null uint8\n",
      "BUILDING CLASS CATEGORY_05 TAX CLASS 1 VACANT LAND                      38342 non-null uint8\n",
      "BUILDING CLASS CATEGORY_06 TAX CLASS 1 - OTHER                          38342 non-null uint8\n",
      "BUILDING CLASS CATEGORY_07 RENTALS - WALKUP APARTMENTS                  38342 non-null uint8\n",
      "BUILDING CLASS CATEGORY_08 RENTALS - ELEVATOR APARTMENTS                38342 non-null uint8\n",
      "BUILDING CLASS CATEGORY_11A CONDO-RENTALS                               38342 non-null uint8\n",
      "BUILDING CLASS CATEGORY_12 CONDOS - WALKUP APARTMENTS                   38342 non-null uint8\n",
      "BUILDING CLASS CATEGORY_13 CONDOS - ELEVATOR APARTMENTS                 38342 non-null uint8\n",
      "BUILDING CLASS CATEGORY_14 RENTALS - 4-10 UNIT                          38342 non-null uint8\n",
      "BUILDING CLASS CATEGORY_15 CONDOS - 2-10 UNIT RESIDENTIAL               38342 non-null uint8\n",
      "BUILDING CLASS CATEGORY_16 CONDOS - 2-10 UNIT WITH COMMERCIAL UNIT      38342 non-null uint8\n",
      "BUILDING CLASS CATEGORY_21 OFFICE BUILDINGS                             38342 non-null uint8\n",
      "BUILDING CLASS CATEGORY_22 STORE BUILDINGS                              38342 non-null uint8\n",
      "BUILDING CLASS CATEGORY_23 LOFT BUILDINGS                               38342 non-null uint8\n",
      "BUILDING CLASS CATEGORY_26 OTHER HOTELS                                 38342 non-null uint8\n",
      "BUILDING CLASS CATEGORY_27 FACTORIES                                    38342 non-null uint8\n",
      "BUILDING CLASS CATEGORY_28 COMMERCIAL CONDOS                            38342 non-null uint8\n",
      "BUILDING CLASS CATEGORY_29 COMMERCIAL GARAGES                           38342 non-null uint8\n",
      "BUILDING CLASS CATEGORY_30 WAREHOUSES                                   38342 non-null uint8\n",
      "BUILDING CLASS CATEGORY_31 COMMERCIAL VACANT LAND                       38342 non-null uint8\n",
      "BUILDING CLASS CATEGORY_32 HOSPITAL AND HEALTH FACILITIES               38342 non-null uint8\n",
      "BUILDING CLASS CATEGORY_33 EDUCATIONAL FACILITIES                       38342 non-null uint8\n",
      "BUILDING CLASS CATEGORY_35 INDOOR PUBLIC AND CULTURAL FACILITIES        38342 non-null uint8\n",
      "BUILDING CLASS CATEGORY_37 RELIGIOUS FACILITIES                         38342 non-null uint8\n",
      "BUILDING CLASS CATEGORY_38 ASYLUMS AND HOMES                            38342 non-null uint8\n",
      "BUILDING CLASS CATEGORY_41 TAX CLASS 4 - OTHER                          38342 non-null uint8\n",
      "BUILDING CLASS CATEGORY_42 CONDO CULTURAL/MEDICAL/EDUCATIONAL/ETC       38342 non-null uint8\n",
      "BUILDING CLASS CATEGORY_43 CONDO OFFICE BUILDINGS                       38342 non-null uint8\n",
      "BUILDING CLASS CATEGORY_44 CONDO PARKING                                38342 non-null uint8\n",
      "BUILDING CLASS CATEGORY_45 CONDO HOTELS                                 38342 non-null uint8\n",
      "BUILDING CLASS CATEGORY_46 CONDO STORE BUILDINGS                        38342 non-null uint8\n",
      "BUILDING CLASS CATEGORY_47 CONDO NON-BUSINESS STORAGE                   38342 non-null uint8\n",
      "BUILDING CLASS CATEGORY_48 CONDO TERRACES/GARDENS/CABANAS               38342 non-null uint8\n",
      "TAX CLASS AT PRESENT_                                                   38342 non-null uint8\n",
      "TAX CLASS AT PRESENT_1                                                  38342 non-null uint8\n",
      "TAX CLASS AT PRESENT_1A                                                 38342 non-null uint8\n",
      "TAX CLASS AT PRESENT_1B                                                 38342 non-null uint8\n",
      "TAX CLASS AT PRESENT_1C                                                 38342 non-null uint8\n",
      "TAX CLASS AT PRESENT_2                                                  38342 non-null uint8\n",
      "TAX CLASS AT PRESENT_2A                                                 38342 non-null uint8\n",
      "TAX CLASS AT PRESENT_2B                                                 38342 non-null uint8\n",
      "TAX CLASS AT PRESENT_2C                                                 38342 non-null uint8\n",
      "TAX CLASS AT PRESENT_3                                                  38342 non-null uint8\n",
      "TAX CLASS AT PRESENT_4                                                  38342 non-null uint8\n",
      "TAX CLASS AT TIME OF SALE_1                                             38342 non-null uint8\n",
      "TAX CLASS AT TIME OF SALE_2                                             38342 non-null uint8\n",
      "TAX CLASS AT TIME OF SALE_3                                             38342 non-null uint8\n",
      "TAX CLASS AT TIME OF SALE_4                                             38342 non-null uint8\n",
      "dtypes: uint8(56)\n",
      "memory usage: 2.3 MB\n"
     ]
    }
   ],
   "source": [
    "# Convert categorical variables into dummy/indicator variables (i.e. one-hot encoding).\n",
    "\n",
    "one_hot_encoded = pd.get_dummies(df[one_hot_columns])\n",
    "one_hot_encoded.info(verbose=True, memory_usage=True, null_counts=True)"
   ]
  },
  {
   "cell_type": "code",
   "execution_count": 40,
   "metadata": {},
   "outputs": [],
   "source": [
    "# Replacing categorical columns with dummies\n",
    "\n",
    "fdf = df.drop(one_hot_columns,axis=1)\n",
    "fdf = pd.concat([fdf, one_hot_encoded] ,axis=1)"
   ]
  },
  {
   "cell_type": "code",
   "execution_count": 41,
   "metadata": {},
   "outputs": [
    {
     "name": "stdout",
     "output_type": "stream",
     "text": [
      "<class 'pandas.core.frame.DataFrame'>\n",
      "Int64Index: 38342 entries, 3 to 84545\n",
      "Data columns (total 66 columns):\n",
      "BLOCK                                                                   38342 non-null float64\n",
      "LOT                                                                     38342 non-null float64\n",
      "ZIP CODE                                                                38342 non-null float64\n",
      "RESIDENTIAL UNITS                                                       38342 non-null float64\n",
      "COMMERCIAL UNITS                                                        38342 non-null float64\n",
      "TOTAL UNITS                                                             38342 non-null float64\n",
      "LAND SQUARE FEET                                                        38342 non-null float64\n",
      "GROSS SQUARE FEET                                                       38342 non-null float64\n",
      "YEAR BUILT                                                              38342 non-null float64\n",
      "SALE PRICE                                                              38342 non-null float64\n",
      "BOROUGH_1                                                               38342 non-null uint8\n",
      "BOROUGH_2                                                               38342 non-null uint8\n",
      "BOROUGH_3                                                               38342 non-null uint8\n",
      "BOROUGH_4                                                               38342 non-null uint8\n",
      "BOROUGH_5                                                               38342 non-null uint8\n",
      "BUILDING CLASS CATEGORY_01 ONE FAMILY DWELLINGS                         38342 non-null uint8\n",
      "BUILDING CLASS CATEGORY_02 TWO FAMILY DWELLINGS                         38342 non-null uint8\n",
      "BUILDING CLASS CATEGORY_03 THREE FAMILY DWELLINGS                       38342 non-null uint8\n",
      "BUILDING CLASS CATEGORY_04 TAX CLASS 1 CONDOS                           38342 non-null uint8\n",
      "BUILDING CLASS CATEGORY_05 TAX CLASS 1 VACANT LAND                      38342 non-null uint8\n",
      "BUILDING CLASS CATEGORY_06 TAX CLASS 1 - OTHER                          38342 non-null uint8\n",
      "BUILDING CLASS CATEGORY_07 RENTALS - WALKUP APARTMENTS                  38342 non-null uint8\n",
      "BUILDING CLASS CATEGORY_08 RENTALS - ELEVATOR APARTMENTS                38342 non-null uint8\n",
      "BUILDING CLASS CATEGORY_11A CONDO-RENTALS                               38342 non-null uint8\n",
      "BUILDING CLASS CATEGORY_12 CONDOS - WALKUP APARTMENTS                   38342 non-null uint8\n",
      "BUILDING CLASS CATEGORY_13 CONDOS - ELEVATOR APARTMENTS                 38342 non-null uint8\n",
      "BUILDING CLASS CATEGORY_14 RENTALS - 4-10 UNIT                          38342 non-null uint8\n",
      "BUILDING CLASS CATEGORY_15 CONDOS - 2-10 UNIT RESIDENTIAL               38342 non-null uint8\n",
      "BUILDING CLASS CATEGORY_16 CONDOS - 2-10 UNIT WITH COMMERCIAL UNIT      38342 non-null uint8\n",
      "BUILDING CLASS CATEGORY_21 OFFICE BUILDINGS                             38342 non-null uint8\n",
      "BUILDING CLASS CATEGORY_22 STORE BUILDINGS                              38342 non-null uint8\n",
      "BUILDING CLASS CATEGORY_23 LOFT BUILDINGS                               38342 non-null uint8\n",
      "BUILDING CLASS CATEGORY_26 OTHER HOTELS                                 38342 non-null uint8\n",
      "BUILDING CLASS CATEGORY_27 FACTORIES                                    38342 non-null uint8\n",
      "BUILDING CLASS CATEGORY_28 COMMERCIAL CONDOS                            38342 non-null uint8\n",
      "BUILDING CLASS CATEGORY_29 COMMERCIAL GARAGES                           38342 non-null uint8\n",
      "BUILDING CLASS CATEGORY_30 WAREHOUSES                                   38342 non-null uint8\n",
      "BUILDING CLASS CATEGORY_31 COMMERCIAL VACANT LAND                       38342 non-null uint8\n",
      "BUILDING CLASS CATEGORY_32 HOSPITAL AND HEALTH FACILITIES               38342 non-null uint8\n",
      "BUILDING CLASS CATEGORY_33 EDUCATIONAL FACILITIES                       38342 non-null uint8\n",
      "BUILDING CLASS CATEGORY_35 INDOOR PUBLIC AND CULTURAL FACILITIES        38342 non-null uint8\n",
      "BUILDING CLASS CATEGORY_37 RELIGIOUS FACILITIES                         38342 non-null uint8\n",
      "BUILDING CLASS CATEGORY_38 ASYLUMS AND HOMES                            38342 non-null uint8\n",
      "BUILDING CLASS CATEGORY_41 TAX CLASS 4 - OTHER                          38342 non-null uint8\n",
      "BUILDING CLASS CATEGORY_42 CONDO CULTURAL/MEDICAL/EDUCATIONAL/ETC       38342 non-null uint8\n",
      "BUILDING CLASS CATEGORY_43 CONDO OFFICE BUILDINGS                       38342 non-null uint8\n",
      "BUILDING CLASS CATEGORY_44 CONDO PARKING                                38342 non-null uint8\n",
      "BUILDING CLASS CATEGORY_45 CONDO HOTELS                                 38342 non-null uint8\n",
      "BUILDING CLASS CATEGORY_46 CONDO STORE BUILDINGS                        38342 non-null uint8\n",
      "BUILDING CLASS CATEGORY_47 CONDO NON-BUSINESS STORAGE                   38342 non-null uint8\n",
      "BUILDING CLASS CATEGORY_48 CONDO TERRACES/GARDENS/CABANAS               38342 non-null uint8\n",
      "TAX CLASS AT PRESENT_                                                   38342 non-null uint8\n",
      "TAX CLASS AT PRESENT_1                                                  38342 non-null uint8\n",
      "TAX CLASS AT PRESENT_1A                                                 38342 non-null uint8\n",
      "TAX CLASS AT PRESENT_1B                                                 38342 non-null uint8\n",
      "TAX CLASS AT PRESENT_1C                                                 38342 non-null uint8\n",
      "TAX CLASS AT PRESENT_2                                                  38342 non-null uint8\n",
      "TAX CLASS AT PRESENT_2A                                                 38342 non-null uint8\n",
      "TAX CLASS AT PRESENT_2B                                                 38342 non-null uint8\n",
      "TAX CLASS AT PRESENT_2C                                                 38342 non-null uint8\n",
      "TAX CLASS AT PRESENT_3                                                  38342 non-null uint8\n",
      "TAX CLASS AT PRESENT_4                                                  38342 non-null uint8\n",
      "TAX CLASS AT TIME OF SALE_1                                             38342 non-null uint8\n",
      "TAX CLASS AT TIME OF SALE_2                                             38342 non-null uint8\n",
      "TAX CLASS AT TIME OF SALE_3                                             38342 non-null uint8\n",
      "TAX CLASS AT TIME OF SALE_4                                             38342 non-null uint8\n",
      "dtypes: float64(10), uint8(56)\n",
      "memory usage: 5.3 MB\n"
     ]
    }
   ],
   "source": [
    "fdf.info()"
   ]
  },
  {
   "cell_type": "code",
   "execution_count": 42,
   "metadata": {},
   "outputs": [
    {
     "data": {
      "text/html": [
       "<div>\n",
       "<style scoped>\n",
       "    .dataframe tbody tr th:only-of-type {\n",
       "        vertical-align: middle;\n",
       "    }\n",
       "\n",
       "    .dataframe tbody tr th {\n",
       "        vertical-align: top;\n",
       "    }\n",
       "\n",
       "    .dataframe thead th {\n",
       "        text-align: right;\n",
       "    }\n",
       "</style>\n",
       "<table border=\"1\" class=\"dataframe\">\n",
       "  <thead>\n",
       "    <tr style=\"text-align: right;\">\n",
       "      <th></th>\n",
       "      <th>BLOCK</th>\n",
       "      <th>LOT</th>\n",
       "      <th>ZIP CODE</th>\n",
       "      <th>RESIDENTIAL UNITS</th>\n",
       "      <th>COMMERCIAL UNITS</th>\n",
       "      <th>TOTAL UNITS</th>\n",
       "      <th>LAND SQUARE FEET</th>\n",
       "      <th>GROSS SQUARE FEET</th>\n",
       "      <th>YEAR BUILT</th>\n",
       "      <th>SALE PRICE</th>\n",
       "      <th>...</th>\n",
       "      <th>TAX CLASS AT PRESENT_2</th>\n",
       "      <th>TAX CLASS AT PRESENT_2A</th>\n",
       "      <th>TAX CLASS AT PRESENT_2B</th>\n",
       "      <th>TAX CLASS AT PRESENT_2C</th>\n",
       "      <th>TAX CLASS AT PRESENT_3</th>\n",
       "      <th>TAX CLASS AT PRESENT_4</th>\n",
       "      <th>TAX CLASS AT TIME OF SALE_1</th>\n",
       "      <th>TAX CLASS AT TIME OF SALE_2</th>\n",
       "      <th>TAX CLASS AT TIME OF SALE_3</th>\n",
       "      <th>TAX CLASS AT TIME OF SALE_4</th>\n",
       "    </tr>\n",
       "  </thead>\n",
       "  <tbody>\n",
       "    <tr>\n",
       "      <th>3</th>\n",
       "      <td>-1.552838</td>\n",
       "      <td>-0.871424</td>\n",
       "      <td>-1.442057</td>\n",
       "      <td>4.726583</td>\n",
       "      <td>-0.204406</td>\n",
       "      <td>4.897089</td>\n",
       "      <td>-0.332369</td>\n",
       "      <td>3.247655</td>\n",
       "      <td>0.176451</td>\n",
       "      <td>2.478171</td>\n",
       "      <td>...</td>\n",
       "      <td>0</td>\n",
       "      <td>0</td>\n",
       "      <td>1</td>\n",
       "      <td>0</td>\n",
       "      <td>0</td>\n",
       "      <td>0</td>\n",
       "      <td>0</td>\n",
       "      <td>1</td>\n",
       "      <td>0</td>\n",
       "      <td>0</td>\n",
       "    </tr>\n",
       "    <tr>\n",
       "      <th>6</th>\n",
       "      <td>-1.545023</td>\n",
       "      <td>-0.654228</td>\n",
       "      <td>-1.442057</td>\n",
       "      <td>4.109626</td>\n",
       "      <td>-0.204406</td>\n",
       "      <td>4.245205</td>\n",
       "      <td>-0.669316</td>\n",
       "      <td>1.421318</td>\n",
       "      <td>0.191071</td>\n",
       "      <td>2.174164</td>\n",
       "      <td>...</td>\n",
       "      <td>0</td>\n",
       "      <td>0</td>\n",
       "      <td>1</td>\n",
       "      <td>0</td>\n",
       "      <td>0</td>\n",
       "      <td>0</td>\n",
       "      <td>0</td>\n",
       "      <td>1</td>\n",
       "      <td>0</td>\n",
       "      <td>0</td>\n",
       "    </tr>\n",
       "    <tr>\n",
       "      <th>76</th>\n",
       "      <td>-1.584890</td>\n",
       "      <td>1.174680</td>\n",
       "      <td>-1.442057</td>\n",
       "      <td>-0.514625</td>\n",
       "      <td>-0.204406</td>\n",
       "      <td>-0.640828</td>\n",
       "      <td>0.691653</td>\n",
       "      <td>1.183694</td>\n",
       "      <td>-3.818937</td>\n",
       "      <td>-0.206132</td>\n",
       "      <td>...</td>\n",
       "      <td>1</td>\n",
       "      <td>0</td>\n",
       "      <td>0</td>\n",
       "      <td>0</td>\n",
       "      <td>0</td>\n",
       "      <td>0</td>\n",
       "      <td>0</td>\n",
       "      <td>1</td>\n",
       "      <td>0</td>\n",
       "      <td>0</td>\n",
       "    </tr>\n",
       "    <tr>\n",
       "      <th>79</th>\n",
       "      <td>-1.611925</td>\n",
       "      <td>1.175214</td>\n",
       "      <td>-1.442057</td>\n",
       "      <td>-0.514625</td>\n",
       "      <td>-0.204406</td>\n",
       "      <td>-0.640828</td>\n",
       "      <td>0.691653</td>\n",
       "      <td>1.183694</td>\n",
       "      <td>0.191071</td>\n",
       "      <td>0.094653</td>\n",
       "      <td>...</td>\n",
       "      <td>1</td>\n",
       "      <td>0</td>\n",
       "      <td>0</td>\n",
       "      <td>0</td>\n",
       "      <td>0</td>\n",
       "      <td>0</td>\n",
       "      <td>0</td>\n",
       "      <td>1</td>\n",
       "      <td>0</td>\n",
       "      <td>0</td>\n",
       "    </tr>\n",
       "    <tr>\n",
       "      <th>80</th>\n",
       "      <td>-1.611925</td>\n",
       "      <td>1.175747</td>\n",
       "      <td>-1.442057</td>\n",
       "      <td>-0.514625</td>\n",
       "      <td>-0.204406</td>\n",
       "      <td>-0.640828</td>\n",
       "      <td>0.691653</td>\n",
       "      <td>1.183694</td>\n",
       "      <td>0.191071</td>\n",
       "      <td>0.113914</td>\n",
       "      <td>...</td>\n",
       "      <td>1</td>\n",
       "      <td>0</td>\n",
       "      <td>0</td>\n",
       "      <td>0</td>\n",
       "      <td>0</td>\n",
       "      <td>0</td>\n",
       "      <td>0</td>\n",
       "      <td>1</td>\n",
       "      <td>0</td>\n",
       "      <td>0</td>\n",
       "    </tr>\n",
       "  </tbody>\n",
       "</table>\n",
       "<p>5 rows × 66 columns</p>\n",
       "</div>"
      ],
      "text/plain": [
       "       BLOCK       LOT  ZIP CODE  RESIDENTIAL UNITS  COMMERCIAL UNITS  \\\n",
       "3  -1.552838 -0.871424 -1.442057           4.726583         -0.204406   \n",
       "6  -1.545023 -0.654228 -1.442057           4.109626         -0.204406   \n",
       "76 -1.584890  1.174680 -1.442057          -0.514625         -0.204406   \n",
       "79 -1.611925  1.175214 -1.442057          -0.514625         -0.204406   \n",
       "80 -1.611925  1.175747 -1.442057          -0.514625         -0.204406   \n",
       "\n",
       "    TOTAL UNITS  LAND SQUARE FEET  GROSS SQUARE FEET  YEAR BUILT  SALE PRICE  \\\n",
       "3      4.897089         -0.332369           3.247655    0.176451    2.478171   \n",
       "6      4.245205         -0.669316           1.421318    0.191071    2.174164   \n",
       "76    -0.640828          0.691653           1.183694   -3.818937   -0.206132   \n",
       "79    -0.640828          0.691653           1.183694    0.191071    0.094653   \n",
       "80    -0.640828          0.691653           1.183694    0.191071    0.113914   \n",
       "\n",
       "    ...  TAX CLASS AT PRESENT_2  TAX CLASS AT PRESENT_2A  \\\n",
       "3   ...                       0                        0   \n",
       "6   ...                       0                        0   \n",
       "76  ...                       1                        0   \n",
       "79  ...                       1                        0   \n",
       "80  ...                       1                        0   \n",
       "\n",
       "    TAX CLASS AT PRESENT_2B  TAX CLASS AT PRESENT_2C  TAX CLASS AT PRESENT_3  \\\n",
       "3                         1                        0                       0   \n",
       "6                         1                        0                       0   \n",
       "76                        0                        0                       0   \n",
       "79                        0                        0                       0   \n",
       "80                        0                        0                       0   \n",
       "\n",
       "    TAX CLASS AT PRESENT_4  TAX CLASS AT TIME OF SALE_1  \\\n",
       "3                        0                            0   \n",
       "6                        0                            0   \n",
       "76                       0                            0   \n",
       "79                       0                            0   \n",
       "80                       0                            0   \n",
       "\n",
       "    TAX CLASS AT TIME OF SALE_2  TAX CLASS AT TIME OF SALE_3  \\\n",
       "3                             1                            0   \n",
       "6                             1                            0   \n",
       "76                            1                            0   \n",
       "79                            1                            0   \n",
       "80                            1                            0   \n",
       "\n",
       "    TAX CLASS AT TIME OF SALE_4  \n",
       "3                             0  \n",
       "6                             0  \n",
       "76                            0  \n",
       "79                            0  \n",
       "80                            0  \n",
       "\n",
       "[5 rows x 66 columns]"
      ]
     },
     "execution_count": 42,
     "metadata": {},
     "output_type": "execute_result"
    }
   ],
   "source": [
    "fdf.head()"
   ]
  },
  {
   "cell_type": "code",
   "execution_count": 43,
   "metadata": {},
   "outputs": [
    {
     "data": {
      "text/plain": [
       "((38342, 65), (38342,))"
      ]
     },
     "execution_count": 43,
     "metadata": {},
     "output_type": "execute_result"
    }
   ],
   "source": [
    "Y_fdf = fdf['SALE PRICE']\n",
    "X_fdf = fdf.drop('SALE PRICE', axis=1)\n",
    "\n",
    "X_fdf.shape , Y_fdf.shape"
   ]
  },
  {
   "cell_type": "code",
   "execution_count": 44,
   "metadata": {},
   "outputs": [],
   "source": [
    "# Train Test Split\n",
    "\n",
    "from sklearn.model_selection import train_test_split \n",
    "X_train ,X_test, Y_train , Y_test = train_test_split(X_fdf , Y_fdf , test_size = 0.2 , random_state = 1)"
   ]
  },
  {
   "cell_type": "code",
   "execution_count": 45,
   "metadata": {},
   "outputs": [
    {
     "data": {
      "text/plain": [
       "((30673, 65), (30673,))"
      ]
     },
     "execution_count": 45,
     "metadata": {},
     "output_type": "execute_result"
    }
   ],
   "source": [
    "# Training set\n",
    "\n",
    "X_train.shape , Y_train.shape"
   ]
  },
  {
   "cell_type": "code",
   "execution_count": 46,
   "metadata": {},
   "outputs": [
    {
     "data": {
      "text/plain": [
       "((7669, 65), (7669,))"
      ]
     },
     "execution_count": 46,
     "metadata": {},
     "output_type": "execute_result"
    }
   ],
   "source": [
    "# Testing set\n",
    "\n",
    "X_test.shape , Y_test.shape"
   ]
  },
  {
   "cell_type": "code",
   "execution_count": 47,
   "metadata": {},
   "outputs": [],
   "source": [
    "# RMSE\n",
    "def rmse(y_test,y_pred):\n",
    "      return np.sqrt(mean_squared_error(y_test,y_pred))"
   ]
  },
  {
   "cell_type": "code",
   "execution_count": 48,
   "metadata": {},
   "outputs": [],
   "source": [
    "# Modelling the Data\n",
    "\n",
    "from sklearn.linear_model import LinearRegression \n",
    "from sklearn.linear_model import Lasso\n",
    "from sklearn.ensemble import RandomForestRegressor"
   ]
  },
  {
   "cell_type": "code",
   "execution_count": 49,
   "metadata": {},
   "outputs": [],
   "source": [
    "# Linear Regression\n",
    "\n",
    "lr = LinearRegression()\n",
    "lr.fit(X_train, Y_train)\n",
    "Y_pred_lr = lr.predict(X_test)"
   ]
  },
  {
   "cell_type": "code",
   "execution_count": 50,
   "metadata": {},
   "outputs": [
    {
     "name": "stdout",
     "output_type": "stream",
     "text": [
      "Linear Regression Mean Squared Error : 0.762233637430128\n"
     ]
    }
   ],
   "source": [
    "print(\"Linear Regression Mean Squared Error : \"+str(rmse(Y_test, Y_pred_lr)))"
   ]
  },
  {
   "cell_type": "code",
   "execution_count": 53,
   "metadata": {},
   "outputs": [],
   "source": [
    "# Lasso Regression\n",
    "\n",
    "alpha=0.00099\n",
    "lasso_regr = Lasso(alpha=alpha,max_iter=50000)\n",
    "lasso_regr.fit(X_train, Y_train)\n",
    "Y_pred_lasso = lasso_regr.predict(X_test)"
   ]
  },
  {
   "cell_type": "code",
   "execution_count": 54,
   "metadata": {},
   "outputs": [
    {
     "name": "stdout",
     "output_type": "stream",
     "text": [
      "Lasso Regression Mean Squared Error : 0.7624672641410694\n"
     ]
    }
   ],
   "source": [
    "print(\"Lasso Regression Mean Squared Error : \"+str(rmse(Y_test, Y_pred_lasso)))"
   ]
  },
  {
   "cell_type": "code",
   "execution_count": 55,
   "metadata": {},
   "outputs": [],
   "source": [
    "# Random Forest Regression\n",
    "\n",
    "rfr = RandomForestRegressor(n_estimators = 100, random_state = 1)\n",
    "rfr.fit(X_train, Y_train)\n",
    "Y_pred_rf = rfr.predict(X_test)"
   ]
  },
  {
   "cell_type": "code",
   "execution_count": 56,
   "metadata": {},
   "outputs": [
    {
     "name": "stdout",
     "output_type": "stream",
     "text": [
      "Random Forest Regression Mean Squared Error : 0.5715440992938805\n"
     ]
    }
   ],
   "source": [
    "print(\"Random Forest Regression Mean Squared Error : \"+str(rmse(Y_test, Y_pred_rf)))"
   ]
  },
  {
   "cell_type": "code",
   "execution_count": 58,
   "metadata": {},
   "outputs": [
    {
     "data": {
      "text/plain": [
       "0.42747199489957843"
      ]
     },
     "execution_count": 58,
     "metadata": {},
     "output_type": "execute_result"
    }
   ],
   "source": [
    "r2_score(Y_test, Y_pred_lr)"
   ]
  },
  {
   "cell_type": "code",
   "execution_count": 59,
   "metadata": {},
   "outputs": [
    {
     "data": {
      "text/plain": [
       "0.42712097829061046"
      ]
     },
     "execution_count": 59,
     "metadata": {},
     "output_type": "execute_result"
    }
   ],
   "source": [
    "r2_score(Y_test, Y_pred_lasso)"
   ]
  },
  {
   "cell_type": "code",
   "execution_count": 60,
   "metadata": {},
   "outputs": [
    {
     "data": {
      "text/plain": [
       "0.678100720120789"
      ]
     },
     "execution_count": 60,
     "metadata": {},
     "output_type": "execute_result"
    }
   ],
   "source": [
    "r2_score(Y_test, Y_pred_rf)"
   ]
  }
 ],
 "metadata": {
  "kernelspec": {
   "display_name": "Python 3",
   "language": "python",
   "name": "python3"
  },
  "language_info": {
   "codemirror_mode": {
    "name": "ipython",
    "version": 3
   },
   "file_extension": ".py",
   "mimetype": "text/x-python",
   "name": "python",
   "nbconvert_exporter": "python",
   "pygments_lexer": "ipython3",
   "version": "3.6.7"
  }
 },
 "nbformat": 4,
 "nbformat_minor": 2
}
